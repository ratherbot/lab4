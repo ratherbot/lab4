{
 "cells": [
  {
   "cell_type": "markdown",
   "id": "3085ec43-34bb-4afb-9515-517e0489db3e",
   "metadata": {},
   "source": [
    "## Ансамбли и полносвязные нейронные сети\n",
    "В этом ноутбуке вам нужно обучить модели на датасете классификации из предыдущего ноутбука и сравнить результаты. Вам будет предоставлен baseline, на основе которого вы будете доделывать предсказывающие модели. Оценка лабы будет зависеть от ROC-AUC на тестовых данных по следующим критериям:\n",
    "\\\n",
    "AUC - на тестовых данных\n",
    "- $AUC \\leq 0.76$ - 0 баллов\n",
    "- $0.76 < AUC \\leq 0.77$ - 2 балла\n",
    "- $0.77 < AUC \\leq 0.78$ - 4 балла\n",
    "- $0.78 < AUC \\leq 0.79$ - 6 баллов\n",
    "- $0.79 < AUC \\leq 0.80$ - 8 баллов\n",
    "- $AUC > 0.80$ - 10 баллов\n"
   ]
  },
  {
   "cell_type": "code",
   "id": "ec07e3a2-480a-4350-868e-02679ff2aada",
   "metadata": {
    "tags": [],
    "ExecuteTime": {
     "end_time": "2024-11-23T01:08:46.947467Z",
     "start_time": "2024-11-23T01:08:45.969901Z"
    }
   },
   "source": [
    "from sklearn.ensemble import RandomForestClassifier, GradientBoostingClassifier\n",
    "from sklearn.neural_network import MLPClassifier\n",
    "from sklearn.metrics import roc_auc_score, precision_score, recall_score, accuracy_score\n",
    "from sklearn.model_selection import train_test_split, GridSearchCV, StratifiedKFold, RandomizedSearchCV\n",
    "from sklearn.preprocessing import StandardScaler, MinMaxScaler, Normalizer, RobustScaler\n",
    "import pandas as pd\n",
    "import numpy as np\n",
    "import matplotlib.pyplot as plt"
   ],
   "outputs": [],
   "execution_count": 1
  },
  {
   "cell_type": "code",
   "id": "563ad31b-5c83-4366-819a-34dad4edecdc",
   "metadata": {
    "tags": [],
    "ExecuteTime": {
     "end_time": "2024-11-23T01:08:47.565713Z",
     "start_time": "2024-11-23T01:08:47.550861Z"
    }
   },
   "source": [
    "data = pd.read_csv('german.csv', sep=';')\n",
    "\n",
    "X = data.iloc[:, 1:].to_numpy()\n",
    "y = data.iloc[:, 0].to_numpy()\n",
    "\n",
    "X_train, X_test, y_train, y_test = train_test_split(X, y, test_size=0.34, random_state=42, stratify=y)\n",
    "\n",
    "scaler = MinMaxScaler()\n",
    "\n",
    "X_train_scaled = scaler.fit_transform(X_train)\n",
    "X_test_scaled = scaler.transform(X_test)"
   ],
   "outputs": [],
   "execution_count": 2
  },
  {
   "cell_type": "code",
   "id": "f93737ec-e5eb-4d72-8beb-5dba4d4c581f",
   "metadata": {
    "tags": [],
    "ExecuteTime": {
     "end_time": "2024-11-23T01:08:49.366709Z",
     "start_time": "2024-11-23T01:08:49.290923Z"
    }
   },
   "source": [
    "plt.hist(y_train, bins=2, edgecolor='k')\n",
    "plt.xticks([0, 1])\n",
    "plt.xlabel('Class (0: Non-Creditworthy, 1: Creditworthy)')\n",
    "plt.ylabel('Count')\n",
    "plt.title('Distribution of Classes in Training Data')\n",
    "plt.show()"
   ],
   "outputs": [
    {
     "data": {
      "text/plain": [
       "<Figure size 640x480 with 1 Axes>"
      ],
      "image/png": "[encoded data removed]"
     },
     "metadata": {},
     "output_type": "display_data"
    }
   ],
   "execution_count": 3
  },
  {
   "cell_type": "code",
   "id": "c1cf8d00-92a3-4b62-bca4-d854b72574d1",
   "metadata": {
    "tags": [],
    "ExecuteTime": {
     "end_time": "2024-11-23T01:14:59.996997Z",
     "start_time": "2024-11-23T01:14:49.194369Z"
    }
   },
   "source": [
    "# Обучение Random Forest\n",
    "rf_model = RandomForestClassifier(random_state=42, class_weight='balanced')\n",
    "\n",
    "rf_params = {\n",
    "    'n_estimators': [220],\n",
    "    'min_samples_leaf': [7],\n",
    "    'criterion': ['entropy'],\n",
    "    'max_depth': [7],\n",
    "    'min_samples_split': [15],\n",
    "}\n",
    "\n",
    "# Кросс-валидация\n",
    "stratified_kfold = StratifiedKFold(n_splits=8, shuffle=True, random_state=42)\n",
    "\n",
    "# Поиск лучших параметров\n",
    "rf_grid = GridSearchCV(rf_model, rf_params, scoring='roc_auc', cv=stratified_kfold)\n",
    "rf_grid.fit(X_train_scaled, y_train)\n",
    "rf_best_model = rf_grid.best_estimator_\n",
    "\n",
    "# Прогноз и метрики для Random Forest\n",
    "rf_pred_proba = rf_best_model.predict_proba(X_test_scaled)[:, 1]\n",
    "rf_roc_auc = roc_auc_score(y_test, rf_pred_proba)\n",
    "rf_accuracy = accuracy_score(y_test, rf_best_model.predict(X_test_scaled))\n",
    "rf_precision = precision_score(y_test, rf_best_model.predict(X_test_scaled))\n",
    "rf_recall = recall_score(y_test, rf_best_model.predict(X_test_scaled))\n",
    "\n",
    "print(\"\\nRandomForest метрики:\")\n",
    "print(f\"ROC AUC: {rf_roc_auc:.2f}\")\n",
    "print(f\"Accuracy: {rf_accuracy:.2f}\")\n",
    "print(f\"Precision: {rf_precision:.2f}\")\n",
    "print(f\"Recall: {rf_recall:.2f}\")\n",
    "\n",
    "# Обучение Gradient Boosting\n",
    "gb_model = GradientBoostingClassifier(random_state=42)\n",
    "\n",
    "gb_params = {\n",
    "    'n_estimators': [300],\n",
    "    'learning_rate': [0.01],\n",
    "    'max_depth': [7],\n",
    "    'min_samples_split': [2],\n",
    "    'min_samples_leaf': [2],\n",
    "    'subsample': [0.8],\n",
    "    'loss': ['exponential']\n",
    "}\n",
    "\n",
    "# Кросс-валидация\n",
    "stratified_kfold = StratifiedKFold(n_splits=8, shuffle=True, random_state=42)\n",
    "\n",
    "# Поиск лучших параметров\n",
    "gb_grid = GridSearchCV(gb_model, gb_params, scoring='roc_auc', cv=stratified_kfold)\n",
    "gb_grid.fit(X_train_scaled, y_train)\n",
    "gb_best_model = gb_grid.best_estimator_\n",
    "\n",
    "# Прогноз и метрики для Gradient Boosting\n",
    "gb_pred_proba = gb_best_model.predict_proba(X_test_scaled)[:, 1]\n",
    "gb_roc_auc = roc_auc_score(y_test, gb_pred_proba)\n",
    "gb_accuracy = accuracy_score(y_test, gb_best_model.predict(X_test_scaled))\n",
    "gb_precision = precision_score(y_test, gb_best_model.predict(X_test_scaled))\n",
    "gb_recall = recall_score(y_test, gb_best_model.predict(X_test_scaled))\n",
    "\n",
    "# Вывод\n",
    "print(\"\\nGradient Boosting метрики:\")\n",
    "print(f\"ROC AUC: {gb_roc_auc:.2f}\")\n",
    "print(f\"Accuracy: {gb_accuracy:.2f}\")\n",
    "print(f\"Precision: {gb_precision:.2f}\")\n",
    "print(f\"Recall: {gb_recall:.2f}\")"
   ],
   "outputs": [
    {
     "name": "stdout",
     "output_type": "stream",
     "text": [
      "\n",
      "RandomForest метрики:\n",
      "ROC AUC: 0.81\n",
      "Accuracy: 0.78\n",
      "Precision: 0.86\n",
      "Recall: 0.82\n",
      "\n",
      "Gradient Boosting метрики:\n",
      "ROC AUC: 0.81\n",
      "Accuracy: 0.79\n",
      "Precision: 0.80\n",
      "Recall: 0.93\n"
     ]
    }
   ],
   "execution_count": 6
  },
  {
   "cell_type": "code",
   "id": "ae1e040c-ddd0-4952-9dcb-58c1226da40a",
   "metadata": {
    "tags": [],
    "ExecuteTime": {
     "end_time": "2024-11-23T01:12:51.506877Z",
     "start_time": "2024-11-23T01:12:48.827483Z"
    }
   },
   "source": [
    "# Обучение MLP нейронной сети, \n",
    "mlp_best_model = MLPClassifier(random_state=42, hidden_layer_sizes=(100, 200), activation='logistic', solver='adam', max_iter=200, alpha = 0.01, learning_rate_init=0.001, learning_rate='adaptive')\n",
    "mlp_best_model.fit(X_train_scaled, y_train)\n",
    "\n",
    "# Прогноз и метрики для MLP нейронной сети\n",
    "mlp_pred_proba = mlp_best_model.predict_proba(X_test_scaled)[:, 1]\n",
    "mlp_roc_auc = roc_auc_score(y_test, mlp_pred_proba)\n",
    "mlp_accuracy = accuracy_score(y_test, mlp_best_model.predict(X_test_scaled))\n",
    "mlp_precision = precision_score(y_test, mlp_best_model.predict(X_test_scaled))\n",
    "mlp_recall = recall_score(y_test, mlp_best_model.predict(X_test_scaled))\n",
    "\n",
    "print(\"\\nMLP (Neural Network) метрики:\")\n",
    "print(f\"ROC AUC: {mlp_roc_auc:.2f}\")\n",
    "print(f\"Accuracy: {mlp_accuracy:.2f}\")\n",
    "print(f\"Precision: {mlp_precision:.2f}\")\n",
    "print(f\"Recall: {mlp_recall:.2f}\")"
   ],
   "outputs": [
    {
     "name": "stdout",
     "output_type": "stream",
     "text": [
      "\n",
      "MLP (Neural Network) метрики:\n",
      "ROC AUC: 0.81\n",
      "Accuracy: 0.77\n",
      "Precision: 0.78\n",
      "Recall: 0.92\n"
     ]
    }
   ],
   "execution_count": 4
  },
  {
   "cell_type": "markdown",
   "id": "d2d6eb00-77fd-40dc-a3c5-35c1fe0200c0",
   "metadata": {},
   "source": [
    "## Экспериментируйте\n",
    "Для получения лучшего качества придется поэкспериментировать. Подсказка: попробуйте оптимизировать гиперпараметры модели"
   ]
  }
 ],
 "metadata": {
  "kernelspec": {
   "display_name": "Python 3 (ipykernel)",
   "language": "python",
   "name": "python3"
  },
  "language_info": {
   "codemirror_mode": {
    "name": "ipython",
    "version": 3
   },
   "file_extension": ".py",
   "mimetype": "text/x-python",
   "name": "python",
   "nbconvert_exporter": "python",
   "pygments_lexer": "ipython3",
   "version": "3.11.5"
  }
 },
 "nbformat": 4,
 "nbformat_minor": 5
}
